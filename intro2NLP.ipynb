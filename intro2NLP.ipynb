{
 "cells": [
  {
   "cell_type": "markdown",
   "metadata": {},
   "source": [
    "`nltk` is the most popular Python package for Natural Language processing, it provides algorithms for importing, cleaning, pre-processing text data in human language and then apply computational linguistics algorithms like sentiment analysis."
   ]
  },
  {
   "cell_type": "code",
   "execution_count": 55,
   "metadata": {},
   "outputs": [],
   "source": [
    "import nltk\n",
    "import re\n",
    "from nltk.corpus import words\n",
    "from collections import Counter\n",
    "import string\n",
    "%matplotlib inline\n",
    "import matplotlib.pyplot as plt"
   ]
  },
  {
   "cell_type": "markdown",
   "metadata": {},
   "source": [
    "## Preparing the dataset"
   ]
  },
  {
   "cell_type": "markdown",
   "metadata": {},
   "source": [
    "### Download a dataset available in `nltk`"
   ]
  },
  {
   "cell_type": "markdown",
   "metadata": {},
   "source": [
    "`nltk` includes many easy-to-use datasets in the nltk.corpus package, we can download for example the gutenberg package, which contains some 25,000 free electronic books, hosted at http://www.gutenberg.org/, using the nltk.download function:"
   ]
  },
  {
   "cell_type": "code",
   "execution_count": 2,
   "metadata": {},
   "outputs": [
    {
     "name": "stdout",
     "output_type": "stream",
     "text": [
      "[nltk_data] Downloading package gutenberg to /Users/sahar/nltk_data...\n",
      "[nltk_data]   Package gutenberg is already up-to-date!\n"
     ]
    },
    {
     "data": {
      "text/plain": [
       "True"
      ]
     },
     "execution_count": 2,
     "metadata": {},
     "output_type": "execute_result"
    }
   ],
   "source": [
    "nltk.download('gutenberg')"
   ]
  },
  {
   "cell_type": "markdown",
   "metadata": {},
   "source": [
    "To see the list of all datasets available for download, you can call:"
   ]
  },
  {
   "cell_type": "code",
   "execution_count": 3,
   "metadata": {
    "collapsed": true
   },
   "outputs": [],
   "source": [
    "#nltk.download_gui()"
   ]
  },
  {
   "cell_type": "markdown",
   "metadata": {},
   "source": [
    "Once the data have been downloaded, we can import them from `nltk.corpus`"
   ]
  },
  {
   "cell_type": "code",
   "execution_count": 4,
   "metadata": {
    "collapsed": true
   },
   "outputs": [],
   "source": [
    "from nltk.corpus import gutenberg"
   ]
  },
  {
   "cell_type": "markdown",
   "metadata": {},
   "source": [
    "The fileids method provided by all the datasets in nltk.corpus gives access to a list of all the files available."
   ]
  },
  {
   "cell_type": "code",
   "execution_count": 5,
   "metadata": {},
   "outputs": [
    {
     "data": {
      "text/plain": [
       "[u'austen-emma.txt',\n",
       " u'austen-persuasion.txt',\n",
       " u'austen-sense.txt',\n",
       " u'bible-kjv.txt',\n",
       " u'blake-poems.txt',\n",
       " u'bryant-stories.txt',\n",
       " u'burgess-busterbrown.txt',\n",
       " u'carroll-alice.txt',\n",
       " u'chesterton-ball.txt',\n",
       " u'chesterton-brown.txt',\n",
       " u'chesterton-thursday.txt',\n",
       " u'edgeworth-parents.txt',\n",
       " u'melville-moby_dick.txt',\n",
       " u'milton-paradise.txt',\n",
       " u'shakespeare-caesar.txt',\n",
       " u'shakespeare-hamlet.txt',\n",
       " u'shakespeare-macbeth.txt',\n",
       " u'whitman-leaves.txt']"
      ]
     },
     "execution_count": 5,
     "metadata": {},
     "output_type": "execute_result"
    }
   ],
   "source": [
    "gutenberg.fileids()"
   ]
  },
  {
   "cell_type": "code",
   "execution_count": 6,
   "metadata": {},
   "outputs": [
    {
     "name": "stdout",
     "output_type": "stream",
     "text": [
      "austen-sense.txt\n",
      "Words to be removed: ['chapter']\n"
     ]
    }
   ],
   "source": [
    "corpus_name = gutenberg.fileids()[2]\n",
    "blacklist_words = ['chapter'] #words to be removed from analysis\n",
    "print corpus_name\n",
    "print 'Words to be removed:', blacklist_words"
   ]
  },
  {
   "cell_type": "code",
   "execution_count": 7,
   "metadata": {
    "collapsed": true
   },
   "outputs": [],
   "source": [
    "corpus_text = gutenberg.raw(fileids=corpus_name)"
   ]
  },
  {
   "cell_type": "code",
   "execution_count": 8,
   "metadata": {},
   "outputs": [
    {
     "data": {
      "text/plain": [
       "u'[Sense and Sensibility by Jane Austen 1811]\\n\\nCHAPTER 1\\n\\n\\nThe family of Dashwood had long been settle'"
      ]
     },
     "execution_count": 8,
     "metadata": {},
     "output_type": "execute_result"
    }
   ],
   "source": [
    "corpus_text[:100]"
   ]
  },
  {
   "cell_type": "markdown",
   "metadata": {},
   "source": [
    "### Or, read the dataset stored on your computer"
   ]
  },
  {
   "cell_type": "code",
   "execution_count": 9,
   "metadata": {},
   "outputs": [],
   "source": [
    "# The method readlines() reads until EOF using readline() and returns a list containing the lines. \n",
    "# The method readline() reads a single line\n",
    "# The method read() reads the entire file\n",
    "with open('austen-sense.txt') as f:\n",
    "    #textlines = f.readlines()\n",
    "    #singleline = f.readline()\n",
    "    text = f.read()"
   ]
  },
  {
   "cell_type": "code",
   "execution_count": 10,
   "metadata": {},
   "outputs": [],
   "source": [
    "#textlines[:6]"
   ]
  },
  {
   "cell_type": "code",
   "execution_count": 11,
   "metadata": {
    "collapsed": true
   },
   "outputs": [],
   "source": [
    "#singleline"
   ]
  },
  {
   "cell_type": "code",
   "execution_count": 12,
   "metadata": {},
   "outputs": [
    {
     "data": {
      "text/plain": [
       "'[Sense and Sensibility by Jane Austen 1811]\\n\\nCHAPTER 1\\n\\n\\nThe family of Dashwood had long been settle'"
      ]
     },
     "execution_count": 12,
     "metadata": {},
     "output_type": "execute_result"
    }
   ],
   "source": [
    "text[:100]"
   ]
  },
  {
   "cell_type": "markdown",
   "metadata": {},
   "source": [
    "## Preprocess the dataset"
   ]
  },
  {
   "cell_type": "markdown",
   "metadata": {},
   "source": [
    "### Change to lower case"
   ]
  },
  {
   "cell_type": "code",
   "execution_count": 13,
   "metadata": {},
   "outputs": [
    {
     "data": {
      "text/plain": [
       "u'[sense and sensibility by jane austen 1811]\\n\\nchapter 1\\n\\n\\nthe family of dashwood had long been settle'"
      ]
     },
     "execution_count": 13,
     "metadata": {},
     "output_type": "execute_result"
    }
   ],
   "source": [
    "corpus_text_lw = corpus_text.lower()\n",
    "corpus_text_lw[:100]"
   ]
  },
  {
   "cell_type": "markdown",
   "metadata": {},
   "source": [
    "### Remove numeric elements"
   ]
  },
  {
   "cell_type": "code",
   "execution_count": 14,
   "metadata": {},
   "outputs": [
    {
     "data": {
      "text/plain": [
       "u'[sense and sensibility by jane austen ]\\n\\nchapter \\n\\n\\nthe family of dashwood had long been settled in '"
      ]
     },
     "execution_count": 14,
     "metadata": {},
     "output_type": "execute_result"
    }
   ],
   "source": [
    "corpus_text_nonNumeric = re.sub(r'\\d+', '', corpus_text_lw)\n",
    "corpus_text_nonNumeric[:100]"
   ]
  },
  {
   "cell_type": "markdown",
   "metadata": {},
   "source": [
    "### Remove punctuations"
   ]
  },
  {
   "cell_type": "code",
   "execution_count": 15,
   "metadata": {},
   "outputs": [
    {
     "data": {
      "text/plain": [
       "u' sense and sensibility by jane austen    chapter    the family of dashwood had long been settled in sussex  their estate was large  and their residenc'"
      ]
     },
     "execution_count": 15,
     "metadata": {},
     "output_type": "execute_result"
    }
   ],
   "source": [
    "corpus_text_noPunc = re.sub(r'[^\\w]',' ',corpus_text_nonNumeric)\n",
    "corpus_text_noPunc[:150]"
   ]
  },
  {
   "cell_type": "markdown",
   "metadata": {},
   "source": [
    "I also tried removing punctuations after tokenizing corpus to words using: \n",
    "`puncs = string.punctuation`\n",
    "\n",
    "However, I did not find it efficient, as the tokenizer was not separating well punctuations. Thus, I decided to remove punctuations using regular expressions."
   ]
  },
  {
   "cell_type": "markdown",
   "metadata": {},
   "source": [
    "### Collapse multiple spaces"
   ]
  },
  {
   "cell_type": "code",
   "execution_count": 16,
   "metadata": {},
   "outputs": [
    {
     "data": {
      "text/plain": [
       "u' sense and sensibility by jane austen chapter the family of dashwood had long been settled in sussex'"
      ]
     },
     "execution_count": 16,
     "metadata": {},
     "output_type": "execute_result"
    }
   ],
   "source": [
    "corpus_text_collapseWspace = re.sub(r'\\s+', ' ', corpus_text_noPunc)\n",
    "corpus_text_collapseWspace[:100]"
   ]
  },
  {
   "cell_type": "markdown",
   "metadata": {},
   "source": [
    "### Trim leading and trailing spaces"
   ]
  },
  {
   "cell_type": "code",
   "execution_count": 17,
   "metadata": {},
   "outputs": [
    {
     "data": {
      "text/plain": [
       "u'sense and sensibility by jane austen chapter the family of dashwood had long been settled in sussex their estate was large and their residence was at '"
      ]
     },
     "execution_count": 17,
     "metadata": {},
     "output_type": "execute_result"
    }
   ],
   "source": [
    "corpus_text_trimmed = corpus_text_collapseWspace.strip()\n",
    "corpus_text_trimmed[:150]"
   ]
  },
  {
   "cell_type": "markdown",
   "metadata": {},
   "source": [
    "### Tokenize text in words"
   ]
  },
  {
   "cell_type": "markdown",
   "metadata": {},
   "source": [
    "**Separate words and punctuations of the dataset which was downloaded from `nltk`:**"
   ]
  },
  {
   "cell_type": "markdown",
   "metadata": {},
   "source": [
    "Note the full stop sign, \".\", is tokenized separately from words, for example, \"Sussex\" in the first sentence."
   ]
  },
  {
   "cell_type": "code",
   "execution_count": 18,
   "metadata": {},
   "outputs": [
    {
     "name": "stdout",
     "output_type": "stream",
     "text": [
      "[u'[', u'Sense', u'and', u'Sensibility', u'by', u'Jane', u'Austen', u'1811', u']', u'CHAPTER', u'1', u'The', u'family', u'of', u'Dashwood', u'had', u'long', u'been', u'settled', u'in', u'Sussex', u'.', u'Their', u'estate', u'was', u'large', u',', u'and', u'their', u'residence']\n",
      "141576\n"
     ]
    }
   ],
   "source": [
    "corpus_words_gutenberg = gutenberg.words(corpus_name)\n",
    "print corpus_words_gutenberg[:30]\n",
    "print len(corpus_words_gutenberg)"
   ]
  },
  {
   "cell_type": "markdown",
   "metadata": {},
   "source": [
    "**Or, split the dataset which was not in `nltk` package:**"
   ]
  },
  {
   "cell_type": "markdown",
   "metadata": {},
   "source": [
    "`nltk` has a sophisticated word tokenizer trained on English named `punkt`. We first need to download it to be able to call `word_tokenize()` on `nltk`."
   ]
  },
  {
   "cell_type": "code",
   "execution_count": 19,
   "metadata": {},
   "outputs": [
    {
     "name": "stdout",
     "output_type": "stream",
     "text": [
      "[nltk_data] Downloading package punkt to /Users/sahar/nltk_data...\n",
      "[nltk_data]   Package punkt is already up-to-date!\n"
     ]
    },
    {
     "data": {
      "text/plain": [
       "True"
      ]
     },
     "execution_count": 19,
     "metadata": {},
     "output_type": "execute_result"
    }
   ],
   "source": [
    "nltk.download(\"punkt\")"
   ]
  },
  {
   "cell_type": "code",
   "execution_count": 20,
   "metadata": {},
   "outputs": [
    {
     "name": "stdout",
     "output_type": "stream",
     "text": [
      "[u'sense', u'and', u'sensibility', u'by', u'jane', u'austen', u'chapter', u'the', u'family', u'of', u'dashwood', u'had', u'long', u'been', u'settled', u'in', u'sussex', u'their', u'estate', u'was', u'large', u'and', u'their', u'residence', u'was', u'at', u'norland', u'park', u'in', u'the']\n",
      "120823\n"
     ]
    }
   ],
   "source": [
    "corpus_words = nltk.word_tokenize(corpus_text_trimmed)\n",
    "print corpus_words[:30]\n",
    "print len(corpus_words)"
   ]
  },
  {
   "cell_type": "markdown",
   "metadata": {},
   "source": [
    "Or, we can use the function split(), which simply splits on whitespace. Because we have already trimmed the text and removed punctuations, the output of these two functions, word_tokenize() and split(), do not differ much. However, if we had not removed the punctuations, then we had to use work_tokenize() which takes care of these - although I found its trimming a bit inefficient and decided to do it above using regular expression. "
   ]
  },
  {
   "cell_type": "code",
   "execution_count": 21,
   "metadata": {},
   "outputs": [
    {
     "name": "stdout",
     "output_type": "stream",
     "text": [
      "[u'sense', u'and', u'sensibility', u'by', u'jane', u'austen', u'chapter', u'the', u'family', u'of', u'dashwood', u'had', u'long', u'been', u'settled', u'in', u'sussex', u'their', u'estate', u'was', u'large', u'and', u'their', u'residence', u'was', u'at', u'norland', u'park', u'in', u'the']\n",
      "120734\n"
     ]
    }
   ],
   "source": [
    "corpus_words2 = corpus_text_trimmed.split()\n",
    "print corpus_words2[:30]\n",
    "print len(corpus_words2)"
   ]
  },
  {
   "cell_type": "code",
   "execution_count": 22,
   "metadata": {},
   "outputs": [
    {
     "data": {
      "text/plain": [
       "set()"
      ]
     },
     "execution_count": 22,
     "metadata": {},
     "output_type": "execute_result"
    }
   ],
   "source": [
    "set(corpus_words) - set(corpus_words2) "
   ]
  },
  {
   "cell_type": "code",
   "execution_count": 23,
   "metadata": {},
   "outputs": [
    {
     "data": {
      "text/plain": [
       "{u'cannot'}"
      ]
     },
     "execution_count": 23,
     "metadata": {},
     "output_type": "execute_result"
    }
   ],
   "source": [
    "set(corpus_words2) - set(corpus_words) "
   ]
  },
  {
   "cell_type": "markdown",
   "metadata": {},
   "source": [
    "After exploring these two lists, I noticed \"cannot\" has been divided by tokenizer to \"can\" and \"not\", while obviously split() preserves the word."
   ]
  },
  {
   "cell_type": "markdown",
   "metadata": {},
   "source": [
    "### Remove Unnecessary Words"
   ]
  },
  {
   "cell_type": "markdown",
   "metadata": {},
   "source": [
    "**Stop Words** \n",
    "\n",
    "Stop words are words which are extremely common and do not contain important significance to be used in classifier for example, \"the\", \"is\", \"have\"."
   ]
  },
  {
   "cell_type": "code",
   "execution_count": 24,
   "metadata": {},
   "outputs": [
    {
     "name": "stdout",
     "output_type": "stream",
     "text": [
      "[nltk_data] Downloading package stopwords to /Users/sahar/nltk_data...\n",
      "[nltk_data]   Package stopwords is already up-to-date!\n"
     ]
    },
    {
     "data": {
      "text/plain": [
       "True"
      ]
     },
     "execution_count": 24,
     "metadata": {},
     "output_type": "execute_result"
    }
   ],
   "source": [
    "nltk.download(\"stopwords\")"
   ]
  },
  {
   "cell_type": "code",
   "execution_count": 25,
   "metadata": {},
   "outputs": [
    {
     "data": {
      "text/plain": [
       "[u'i',\n",
       " u'me',\n",
       " u'my',\n",
       " u'myself',\n",
       " u'we',\n",
       " u'our',\n",
       " u'ours',\n",
       " u'ourselves',\n",
       " u'you',\n",
       " u\"you're\"]"
      ]
     },
     "execution_count": 25,
     "metadata": {},
     "output_type": "execute_result"
    }
   ],
   "source": [
    "stopwords = nltk.corpus.stopwords.words(\"english\")\n",
    "stopwords[:10]"
   ]
  },
  {
   "cell_type": "markdown",
   "metadata": {},
   "source": [
    "**Misspelled Words**"
   ]
  },
  {
   "cell_type": "markdown",
   "metadata": {},
   "source": [
    "#TODO: install the hunspell library for spell checking\n",
    "\n",
    "I tried comparing my corpus words with the word list recognized by `nltk`, but it didn't work well, as it was not recognizing inflected words like `attractions` or `needed`."
   ]
  },
  {
   "cell_type": "code",
   "execution_count": 26,
   "metadata": {},
   "outputs": [
    {
     "name": "stdout",
     "output_type": "stream",
     "text": [
      "[nltk_data] Downloading package words to /Users/sahar/nltk_data...\n",
      "[nltk_data]   Package words is already up-to-date!\n"
     ]
    },
    {
     "data": {
      "text/plain": [
       "True"
      ]
     },
     "execution_count": 26,
     "metadata": {},
     "output_type": "execute_result"
    }
   ],
   "source": [
    "nltk.download('words')"
   ]
  },
  {
   "cell_type": "code",
   "execution_count": 27,
   "metadata": {},
   "outputs": [],
   "source": [
    "# The set of English words in nltk corpora\n",
    "english_words_case = nltk.corpus.words.words()"
   ]
  },
  {
   "cell_type": "code",
   "execution_count": 28,
   "metadata": {},
   "outputs": [],
   "source": [
    "english_words = map(lambda x: x.lower(), english_words_case)"
   ]
  },
  {
   "cell_type": "code",
   "execution_count": 29,
   "metadata": {},
   "outputs": [
    {
     "data": {
      "text/plain": [
       "True"
      ]
     },
     "execution_count": 29,
     "metadata": {},
     "output_type": "execute_result"
    }
   ],
   "source": [
    "'need' in english_words"
   ]
  },
  {
   "cell_type": "markdown",
   "metadata": {
    "collapsed": true
   },
   "source": [
    "**Remove them:**"
   ]
  },
  {
   "cell_type": "code",
   "execution_count": 30,
   "metadata": {},
   "outputs": [
    {
     "name": "stdout",
     "output_type": "stream",
     "text": [
      "['chapter', u'i', u'me', u'my', u'myself', u'we', u'our', u'ours', u'ourselves', u'you', u\"you're\", u\"you've\", u\"you'll\", u\"you'd\", u'your', u'yours', u'yourself', u'yourselves', u'he', u'him']\n"
     ]
    }
   ],
   "source": [
    "useless_words = blacklist_words + stopwords\n",
    "print useless_words[:20]"
   ]
  },
  {
   "cell_type": "code",
   "execution_count": 31,
   "metadata": {},
   "outputs": [
    {
     "name": "stdout",
     "output_type": "stream",
     "text": [
      "53848\n"
     ]
    }
   ],
   "source": [
    "filtered_words = [w for w in corpus_words if w not in useless_words]\n",
    "print len(filtered_words)"
   ]
  },
  {
   "cell_type": "code",
   "execution_count": 32,
   "metadata": {},
   "outputs": [
    {
     "name": "stdout",
     "output_type": "stream",
     "text": [
      "[u'sense', u'sensibility', u'jane', u'austen', u'family', u'dashwood', u'long', u'settled', u'sussex', u'estate', u'large', u'residence', u'norland', u'park', u'centre', u'property', u'many', u'generations', u'lived', u'respectable', u'manner', u'engage', u'general', u'good', u'opinion', u'surrounding', u'acquaintance', u'late', u'owner', u'estate']\n"
     ]
    }
   ],
   "source": [
    "print filtered_words[:30]"
   ]
  },
  {
   "cell_type": "markdown",
   "metadata": {},
   "source": [
    "Trimming the corpus will reduce its length by more than a factor of 2:"
   ]
  },
  {
   "cell_type": "code",
   "execution_count": 33,
   "metadata": {},
   "outputs": [
    {
     "data": {
      "text/plain": [
       "53848"
      ]
     },
     "execution_count": 33,
     "metadata": {},
     "output_type": "execute_result"
    }
   ],
   "source": [
    "len(filtered_words)"
   ]
  },
  {
   "cell_type": "code",
   "execution_count": 34,
   "metadata": {},
   "outputs": [
    {
     "data": {
      "text/plain": [
       "141576"
      ]
     },
     "execution_count": 34,
     "metadata": {},
     "output_type": "execute_result"
    }
   ],
   "source": [
    "len(gutenberg.words(corpus_name))"
   ]
  },
  {
   "cell_type": "markdown",
   "metadata": {},
   "source": [
    "## Plotting frequency of words"
   ]
  },
  {
   "cell_type": "code",
   "execution_count": 35,
   "metadata": {},
   "outputs": [],
   "source": [
    "word_counter = Counter(filtered_words)"
   ]
  },
  {
   "cell_type": "code",
   "execution_count": 36,
   "metadata": {},
   "outputs": [
    {
     "name": "stdout",
     "output_type": "stream",
     "text": [
      "[(u'elinor', 685), (u'could', 578), (u'marianne', 566), (u'mrs', 530), (u'would', 515), (u'said', 397), (u'every', 377), (u'one', 331), (u'much', 290), (u'must', 283), (u'sister', 282), (u'edward', 263), (u'mother', 258), (u'dashwood', 252), (u'well', 240), (u'time', 239), (u'know', 232), (u'jennings', 230), (u'willoughby', 216), (u'though', 216), (u'might', 215), (u'miss', 210), (u'think', 210), (u'never', 189), (u'nothing', 189), (u'lucy', 186), (u'thing', 185), (u'soon', 181), (u'mr', 178), (u'good', 177), (u'colonel', 176), (u'may', 175), (u'without', 174), (u'see', 173), (u'ever', 169), (u'john', 164), (u'house', 161), (u'say', 160), (u'first', 160), (u'little', 160), (u'however', 155), (u'two', 153), (u'day', 150), (u'great', 149), (u'brandon', 144), (u'lady', 142), (u'make', 140), (u'made', 138), (u'sure', 136), (u'ferrars', 130)]\n"
     ]
    }
   ],
   "source": [
    "most_common_words = word_counter.most_common()\n",
    "print most_common_words[:50]"
   ]
  },
  {
   "cell_type": "code",
   "execution_count": 37,
   "metadata": {},
   "outputs": [
    {
     "data": {
      "image/png": "[encoded data removed]",
      "text/plain": [
       "<matplotlib.figure.Figure at 0x113d50d10>"
      ]
     },
     "metadata": {},
     "output_type": "display_data"
    }
   ],
   "source": [
    "sorted_word_counts = sorted(word_counter.values(), reverse=True)\n",
    "\n",
    "plt.loglog(sorted_word_counts)\n",
    "plt.ylabel(\"Freq\")\n",
    "plt.xlabel(\"Word Rank\");"
   ]
  },
  {
   "cell_type": "code",
   "execution_count": 38,
   "metadata": {},
   "outputs": [
    {
     "data": {
      "text/plain": [
       "<matplotlib.text.Text at 0x1a20dab810>"
      ]
     },
     "execution_count": 38,
     "metadata": {},
     "output_type": "execute_result"
    },
    {
     "data": {
      "image/png": "[encoded data removed]",
      "text/plain": [
       "<matplotlib.figure.Figure at 0x1a20a40350>"
      ]
     },
     "metadata": {},
     "output_type": "display_data"
    }
   ],
   "source": [
    "plt.hist(sorted_word_counts, bins=50, log=True);\n",
    "plt.xlabel('Word Count')\n",
    "plt.ylabel('Freq.')"
   ]
  },
  {
   "cell_type": "markdown",
   "metadata": {},
   "source": [
    "The histogram shows the words that have very high word count (for example \"elinor\" appares ~600 times or \"marianne\" about ~500) are a few."
   ]
  },
  {
   "cell_type": "markdown",
   "metadata": {},
   "source": [
    "## Sentiment Analysis"
   ]
  },
  {
   "cell_type": "code",
   "execution_count": 39,
   "metadata": {},
   "outputs": [],
   "source": [
    "from textblob import TextBlob"
   ]
  },
  {
   "cell_type": "code",
   "execution_count": 40,
   "metadata": {
    "collapsed": true
   },
   "outputs": [],
   "source": [
    "corpus_sentences = nltk.tokenize.sent_tokenize(corpus_text)"
   ]
  },
  {
   "cell_type": "code",
   "execution_count": 41,
   "metadata": {},
   "outputs": [
    {
     "name": "stdout",
     "output_type": "stream",
     "text": [
      "4833\n",
      "[u'[Sense and Sensibility by Jane Austen 1811]\\n\\nCHAPTER 1\\n\\n\\nThe family of Dashwood had long been settled in Sussex.', u'Their estate was large, and their residence was at Norland Park,\\nin the centre of their property, where, for many generations,\\nthey had lived in so respectable a manner as to engage\\nthe general good opinion of their surrounding acquaintance.', u'The late owner of this estate was a single man, who lived\\nto a very advanced age, and who for many years of his life,\\nhad a constant companion and housekeeper in his sister.']\n"
     ]
    }
   ],
   "source": [
    "print len(corpus_sentences)\n",
    "print corpus_sentences[:3]"
   ]
  },
  {
   "cell_type": "code",
   "execution_count": 42,
   "metadata": {},
   "outputs": [],
   "source": [
    "blob = TextBlob(corpus_text)"
   ]
  },
  {
   "cell_type": "code",
   "execution_count": 43,
   "metadata": {
    "collapsed": true
   },
   "outputs": [],
   "source": [
    "corpus_sentiment = [sentence.sentiment.polarity for sentence in blob.sentences]"
   ]
  },
  {
   "cell_type": "code",
   "execution_count": 44,
   "metadata": {},
   "outputs": [
    {
     "data": {
      "text/plain": [
       "[<matplotlib.lines.Line2D at 0x1a23e13ed0>]"
      ]
     },
     "execution_count": 44,
     "metadata": {},
     "output_type": "execute_result"
    },
    {
     "data": {
      "image/png": "[encoded data removed]",
      "text/plain": [
       "<matplotlib.figure.Figure at 0x1a23d8a310>"
      ]
     },
     "metadata": {},
     "output_type": "display_data"
    }
   ],
   "source": [
    "plt.plot(corpus_sentiment)"
   ]
  },
  {
   "cell_type": "markdown",
   "metadata": {},
   "source": [
    "### Train a classifier for sentiment analysis"
   ]
  },
  {
   "cell_type": "markdown",
   "metadata": {},
   "source": [
    "If we have a training dataset with target labels for sentiment analysis, we can train a classifier to predict the sentiment in a test dataset. For example, we can download and import the dataset `movie_reviews`: "
   ]
  },
  {
   "cell_type": "code",
   "execution_count": 45,
   "metadata": {},
   "outputs": [
    {
     "name": "stdout",
     "output_type": "stream",
     "text": [
      "[nltk_data] Downloading package movie_reviews to\n",
      "[nltk_data]     /Users/sahar/nltk_data...\n",
      "[nltk_data]   Unzipping corpora/movie_reviews.zip.\n"
     ]
    },
    {
     "data": {
      "text/plain": [
       "True"
      ]
     },
     "execution_count": 45,
     "metadata": {},
     "output_type": "execute_result"
    }
   ],
   "source": [
    "nltk.download(\"movie_reviews\")"
   ]
  },
  {
   "cell_type": "code",
   "execution_count": 46,
   "metadata": {
    "collapsed": true
   },
   "outputs": [],
   "source": [
    "from nltk.corpus import movie_reviews"
   ]
  },
  {
   "cell_type": "markdown",
   "metadata": {},
   "source": [
    "The `fileids` method provided by all the datasets in `nltk.corpus` gives access to a list of all the files available.\n",
    "\n",
    "In particular in the movie_reviews dataset we have 2000 text files, each of them is a review of a movie, and they are already split in a `neg` folder for the negative reviews and a `pos` folder for the positive reviews:"
   ]
  },
  {
   "cell_type": "code",
   "execution_count": 47,
   "metadata": {},
   "outputs": [
    {
     "data": {
      "text/plain": [
       "2000"
      ]
     },
     "execution_count": 47,
     "metadata": {},
     "output_type": "execute_result"
    }
   ],
   "source": [
    "len(movie_reviews.fileids())"
   ]
  },
  {
   "cell_type": "code",
   "execution_count": 48,
   "metadata": {},
   "outputs": [
    {
     "data": {
      "text/plain": [
       "[u'neg/cv000_29416.txt', u'neg/cv001_19502.txt', u'neg/cv002_17424.txt']"
      ]
     },
     "execution_count": 48,
     "metadata": {},
     "output_type": "execute_result"
    }
   ],
   "source": [
    "movie_reviews.fileids()[:3]"
   ]
  },
  {
   "cell_type": "code",
   "execution_count": 49,
   "metadata": {},
   "outputs": [
    {
     "data": {
      "text/plain": [
       "[u'pos/cv997_5046.txt', u'pos/cv998_14111.txt', u'pos/cv999_13106.txt']"
      ]
     },
     "execution_count": 49,
     "metadata": {},
     "output_type": "execute_result"
    }
   ],
   "source": [
    "movie_reviews.fileids()[-3:]"
   ]
  },
  {
   "cell_type": "markdown",
   "metadata": {},
   "source": [
    "`fileids` can also filter the available files based on their category, which is the name of the subfolders they are located in. Therefore we can have lists of positive and negative reviews separately."
   ]
  },
  {
   "cell_type": "code",
   "execution_count": 50,
   "metadata": {
    "collapsed": true
   },
   "outputs": [],
   "source": [
    "negative_fileids = movie_reviews.fileids('neg')\n",
    "positive_fileids = movie_reviews.fileids('pos')"
   ]
  },
  {
   "cell_type": "code",
   "execution_count": 51,
   "metadata": {},
   "outputs": [
    {
     "data": {
      "text/plain": [
       "(1000, 1000)"
      ]
     },
     "execution_count": 51,
     "metadata": {},
     "output_type": "execute_result"
    }
   ],
   "source": [
    "len(negative_fileids), len(positive_fileids)"
   ]
  },
  {
   "cell_type": "code",
   "execution_count": 52,
   "metadata": {},
   "outputs": [
    {
     "name": "stdout",
     "output_type": "stream",
     "text": [
      "plot : two teen couples go to a church party , drink and then drive . \n",
      "they get into an accident . \n",
      "one of the guys dies , but his girlfriend continues to see him in her life , and has nightmares . \n",
      "what's the deal ? \n",
      "watch the movie and \" sorta \" find out . . . \n",
      "critique : a mind-fuck movie for the teen generation that touches on a very cool idea , but presents it in a very bad package . \n",
      "which is what makes this review an even harder one to write , since i generally applaud films which attempt to break the mold , mess with your head and such ( lost highway & memento ) , but there are good and bad ways of making all types of films , and these folks just didn't snag this one correctly . \n",
      "they seem to have taken this pretty neat concept , but executed it terribly . \n",
      "so what are the problems with the movie ? \n",
      "well , its main problem is that it's simply too jumbled . \n",
      "it starts off \" normal \" but then downshifts into this \" fantasy \" world in which you , as an audience member , have no id\n"
     ]
    }
   ],
   "source": [
    "print movie_reviews.raw(fileids=negative_fileids[0])[:1000]"
   ]
  },
  {
   "cell_type": "code",
   "execution_count": 53,
   "metadata": {},
   "outputs": [
    {
     "name": "stdout",
     "output_type": "stream",
     "text": [
      "films adapted from comic books have had plenty of success , whether they're about superheroes ( batman , superman , spawn ) , or geared toward kids ( casper ) or the arthouse crowd ( ghost world ) , but there's never really been a comic book like from hell before . \n",
      "for starters , it was created by alan moore ( and eddie campbell ) , who brought the medium to a whole new level in the mid '80s with a 12-part series called the watchmen . \n",
      "to say moore and campbell thoroughly researched the subject of jack the ripper would be like saying michael jackson is starting to look a little odd . \n",
      "the book ( or \" graphic novel , \" if you will ) is over 500 pages long and includes nearly 30 more that consist of nothing but footnotes . \n",
      "in other words , don't dismiss this film because of its source . \n",
      "if you can get past the whole comic book thing , you might find another stumbling block in from hell's directors , albert and allen hughes . \n",
      "getting the hughes brothers to direct this seems almost as \n"
     ]
    }
   ],
   "source": [
    "print movie_reviews.raw(fileids=positive_fileids[0])[:1000]"
   ]
  },
  {
   "cell_type": "markdown",
   "metadata": {},
   "source": [
    "The simplest model for analyzing text is just to think about text as an unordered collection of words (bag-of-words). This can generally allow to infer from the text the category, the topic or the sentiment.\n",
    "\n",
    "From the bag-of-words model we can build features to be used by a classifier, here we assume that each word is a feature that can either be `True` or `False`.\n",
    "We implement this in Python as a dictionary where for each word in a sentence we associate `True`, if a word is missing, that would be the same as assigning `False`."
   ]
  },
  {
   "cell_type": "code",
   "execution_count": 57,
   "metadata": {},
   "outputs": [],
   "source": [
    "useless_words = stopwords + list(string.punctuation)"
   ]
  },
  {
   "cell_type": "code",
   "execution_count": 58,
   "metadata": {
    "collapsed": true
   },
   "outputs": [],
   "source": [
    "def bag_of_words_features(words):\n",
    "    return {\n",
    "        word:1 for word in words \\\n",
    "        if not word in useless_words}"
   ]
  },
  {
   "cell_type": "code",
   "execution_count": 59,
   "metadata": {
    "collapsed": true
   },
   "outputs": [],
   "source": [
    "negative_features = [(bag_of_words_features(movie_reviews.words(fileids=f)), 'neg') for f in negative_fileids]"
   ]
  },
  {
   "cell_type": "code",
   "execution_count": 60,
   "metadata": {},
   "outputs": [
    {
     "name": "stdout",
     "output_type": "stream",
     "text": [
      "({u'concept': 1, u'skip': 1, u'insight': 1, u'playing': 1, u'executed': 1, u'go': 1, u'still': 1, u'find': 1, u'seemed': 1, u'write': 1, u'touches': 1, u'thrilling': 1, u'craziness': 1, u'somewhere': 1, u'excites': 1, u'seems': 1, u'snag': 1, u'presents': 1, u'going': 1, u'4': 1, u'pretty': 1, u'joblo': 1, u'folks': 1, u'8': 1, u'main': 1, u'might': 1, u'good': 1, u'7': 1, u'get': 1, u'big': 1, u'showing': 1, u'continues': 1, u'watch': 1, u'break': 1, u'feels': 1, u'every': 1, u'know': 1, u'half': 1, u'world': 1, u'bit': 1, u'password': 1, u'exact': 1, u'dreams': 1, u'cool': 1, u'entire': 1, u'like': 1, u'lost': 1, u'always': 1, u'dig': 1, u'wrapped': 1, u'audience': 1, u'arrow': 1, u'meantime': 1, u'rarely': 1, u'giving': 1, u'looooot': 1, u'mean': 1, u'flick': 1, u'neighborhood': 1, u'deal': 1, u'people': 1, u'generation': 1, u'crow': 1, u'idea': 1, u'dead': 1, u'engaging': 1, u'see': 1, u'decided': 1, u'video': 1, u'wes': 1, u'critique': 1, u'happen': 1, u'guess': 1, u'really': 1, u'even': 1, u'given': 1, u'throughout': 1, u'hide': 1, u'bottom': 1, u'sorta': 1, u'movie': 1, u'review': 1, u'since': 1, u'bad': 1, u'applaud': 1, u'3': 1, u'unravel': 1, u'melissa': 1, u'correctly': 1, u'assuming': 1, u'got': 1, u'flicks': 1, u'ever': 1, u'highway': 1, u'shows': 1, u'lazy': 1, u'nightmare': 1, u'turning': 1, u'packaged': 1, u'little': 1, u'understanding': 1, u'nightmares': 1, u'completely': 1, u'entertain': 1, u'studio': 1, u'although': 1, u'others': 1, u'genre': 1, u'20': 1, u'sitting': 1, u'memento': 1, u'accident': 1, u'package': 1, u'starts': 1, u'elm': 1, u'terribly': 1, u'american': 1, u'witch': 1, u'weird': 1, u'runtime': 1, u'makes': 1, u'jumbled': 1, u'chopped': 1, u'movies': 1, u'strangeness': 1, u'point': 1, u'character': 1, u'explained': 1, u'whatever': 1, u'one': 1, u'fantasy': 1, u'tons': 1, u'simply': 1, u'church': 1, u'actually': 1, u'visions': 1, u'plot': 1, u'fed': 1, u'disappearances': 1, u'sad': 1, u'bentley': 1, u'would': 1, u'decent': 1, u'apparently': 1, u'two': 1, u'shelves': 1, u'start': 1, u'secret': 1, u'production': 1, u'music': 1, u'way': 1, u'taken': 1, u'final': 1, u'teen': 1, u'slasher': 1, u'head': 1, u'kids': 1, u'offering': 1, u'suits': 1, u'explanation': 1, u'figured': 1, u'took': 1, u'new': 1, u'back': 1, u'films': 1, u'part': 1, u'stick': 1, u'personally': 1, u'chasing': 1, u'line': 1, u'trying': 1, u'despite': 1, u'10': 1, u'kind': 1, u'echoes': 1, u'look': 1, u'plain': 1, u'oh': 1, u'harder': 1, u'scenes': 1, u'us': 1, u'apparitions': 1, u'2': 1, u'street': 1, u'neat': 1, u'making': 1, u'problem': 1, u'feeling': 1, u'minutes': 1, u'blair': 1, u'overall': 1, u'give': 1, u'unraveling': 1, u'mind': 1, u'fuck': 1, u'biggest': 1, u'couples': 1, u'need': 1, u'someone': 1, u'want': 1, u'sense': 1, u'girlfriend': 1, u'seem': 1, u'mold': 1, u'sagemiller': 1, u'film': 1, u'chase': 1, u'different': 1, u'kudos': 1, u'things': 1, u'make': 1, u'holds': 1, u'generally': 1, u'member': 1, u'also': 1, u'hot': 1, u'strange': 1, u'actors': 1, u'9': 1, u'party': 1, u'confusing': 1, u'stir': 1, u'horror': 1, u'life': 1, u'sure': 1, u'okay': 1, u'beauty': 1, u'normal': 1, u'mess': 1, u'dies': 1, u'drink': 1, u'problems': 1, u'director': 1, u'running': 1, u'characters': 1, u'coming': 1, u'clue': 1, u'guys': 1, u'types': 1, u'ago': 1, u'downshifts': 1, u'attempt': 1, u'ending': 1, u'salvation': 1, u'well': 1, u'drive': 1, u'redundant': 1, u'obviously': 1, u'ways': 1, u'edge': 1, u'enter': 1, u'five': 1, u'entertaining': 1, u'years': 1, u'away': 1, u'came': 1}, 'neg')\n"
     ]
    }
   ],
   "source": [
    "print negative_features[0]"
   ]
  },
  {
   "cell_type": "code",
   "execution_count": 61,
   "metadata": {
    "collapsed": true
   },
   "outputs": [],
   "source": [
    "positive_features = [(bag_of_words_features(movie_reviews.words(fileids=f)), 'pos') for f in positive_fileids]"
   ]
  },
  {
   "cell_type": "code",
   "execution_count": 62,
   "metadata": {},
   "outputs": [
    {
     "name": "stdout",
     "output_type": "stream",
     "text": [
      "({u'childs': 1, u'steve': 1, u'surgical': 1, u'go': 1, u'certainly': 1, u'watchmen': 1, u'song': 1, u'simpsons': 1, u'novel': 1, u'jack': 1, u'surgeon': 1, u'level': 1, u'turns': 1, u'michael': 1, u'flashy': 1, u'sooty': 1, u'direct': 1, u'past': 1, u'street': 1, u'design': 1, u'befriends': 1, u'odd': 1, u'even': 1, u'new': 1, u'supporting': 1, u'never': 1, u'quell': 1, u'les': 1, u'102': 1, u'strong': 1, u'great': 1, u'kids': 1, u'30': 1, u'creepy': 1, u'rafael': 1, u'named': 1, u'love': 1, u'brought': 1, u'color': 1, u'ians': 1, u'would': 1, u'indians': 1, u'chooses': 1, u'music': 1, u'films': 1, u'oscar': 1, u'holm': 1, u'arthouse': 1, u'keeping': 1, u'graphic': 1, u'word': 1, u'car': 1, u'era': 1, u'crazy': 1, u'coltrane': 1, u'carrot': 1, u'sense': 1, u'needs': 1, u'end': 1, u'holds': 1, u'copious': 1, u'worry': 1, u'pales': 1, u'screenwriters': 1, u'tries': 1, u'mad': 1, u'1888': 1, u'filthy': 1, u'bleak': 1, u'attempt': 1, u'cloaking': 1, u'imagining': 1, u'acts': 1, u'finalized': 1, u'unfortunates': 1, u'course': 1, u'london': 1, u'ghastly': 1, u'hell': 1, u'apes': 1, u'police': 1, u'interesting': 1, u'actually': 1, u'better': 1, u'production': 1, u'hidden': 1, u'might': 1, u'good': 1, u'killer': 1, u'half': 1, u'arriving': 1, u'viewers': 1, u'robbie': 1, u'stiff': 1, u'flashbacks': 1, u'series': 1, u'crimes': 1, u'society': 1, u'books': 1, u'really': 1, u'jackson': 1, u'opened': 1, u'bad': 1, u'content': 1, u'acting': 1, u'print': 1, u'surprise': 1, u'turning': 1, u'theory': 1, u'geared': 1, u'completely': 1, u'language': 1, u'created': 1, u'could': 1, u'days': 1, u'british': 1, u'times': 1, u'thing': 1, u'place': 1, u'guttenberg': 1, u'footnotes': 1, u'onto': 1, u'think': 1, u'first': 1, u'copper': 1, u'features': 1, u'one': 1, u'another': 1, u'comic': 1, u'researched': 1, u'little': 1, u'top': 1, u'accent': 1, u'anyone': 1, u'2': 1, u'white': 1, u'stomach': 1, u'godley': 1, u'albert': 1, u'alan': 1, u'part': 1, u'blindly': 1, u'gruesome': 1, u'rables': 1, u'12': 1, u'roles': 1, u'bother': 1, u'scenes': 1, u'victorian': 1, u'r': 1, u'toward': 1, u'slay': 1, u'say': 1, u'prophetic': 1, u'allen': 1, u'saw': 1, u'superman': 1, u'thoroughly': 1, u'mid': 1, u'ably': 1, u'performance': 1, u'mis': 1, u'electric': 1, u'dalmatians': 1, u'though': 1, u'mouth': 1, u'plenty': 1, u'nothing': 1, u'pages': 1, u'surprising': 1, u'frederick': 1, u'typically': 1, u'saying': 1, u'ending': 1, u'deftly': 1, u'find': 1, u'nervous': 1, u'winner': 1, u'behind': 1, u'crime': 1, u'starters': 1, u'surroundings': 1, u'black': 1, u'get': 1, u'watch': 1, u'nearly': 1, u'words': 1, u'ghetto': 1, u'yglesias': 1, u'whitechapel': 1, u'investigate': 1, u'briefed': 1, u'abberline': 1, u'looks': 1, u'set': 1, u'dreariness': 1, u'prague': 1, u'deming': 1, u'see': 1, u'locals': 1, u'subject': 1, u'00': 1, u'manson': 1, u'horribly': 1, u'enough': 1, u'finger': 1, u'vertical': 1, u'however': 1, u'killing': 1, u'blame': 1, u'job': 1, u'joe': 1, u'marilyn': 1, u'drug': 1, u'geniuses': 1, u'whole': 1, u'riddle': 1, u'point': 1, u'reasons': 1, u'hollow': 1, u'twin': 1, u'capable': 1, u'particulars': 1, u'secret': 1, u'much': 1, u'mary': 1, u'500': 1, u'dismiss': 1, u'precision': 1, u'finished': 1, u'stonecutters': 1, u'case': 1, u'hughes': 1, u'handling': 1, u'look': 1, u'solid': 1, u'appearance': 1, u'hayes': 1, u'sexuality': 1, u'depp': 1, u'spawn': 1, u'almost': 1, u'ii': 1, u'inspector': 1, u'superheroes': 1, u'funny': 1, u'absinthe': 1, u'make': 1, u'unfortunate': 1, u'80s': 1, u'peaks': 1, u'upon': 1, u'helped': 1, u'cinematographer': 1, u'identity': 1, u'whores': 1, u'adapted': 1, u'well': 1, u'kelly': 1, u'captures': 1, u'ludicrous': 1, u'sleepy': 1, u'violent': 1, u'casper': 1, u'campbell': 1, u'blow': 1, u'seems': 1, u'source': 1, u'crack': 1, u'east': 1, u'casting': 1, u'big': 1, u'dark': 1, u'dreamy': 1, u'world': 1, u'unique': 1, u'dreams': 1, u'like': 1, u'success': 1, u'remind': 1, u'martin': 1, u'jews': 1, u'crowd': 1, u'back': 1, u'eddie': 1, u'peter': 1, u'committing': 1, u'comments': 1, u'shakespeare': 1, u'unsuccessfully': 1, u'ripper': 1, u'comparison': 1, u'opium': 1, u'anything': 1, u'getting': 1, u'violence': 1, u'block': 1, u'profession': 1, u'widower': 1, u'carving': 1, u'burton': 1, u'log': 1, u'question': 1, u'long': 1, u'medium': 1, u'batman': 1, u'mysterious': 1, u'gore': 1, u'made': 1, u'consist': 1, u'whether': 1, u'stumbling': 1, u'planet': 1, u'limit': 1, u'gould': 1, u'called': 1, u'irish': 1, u'moore': 1, u'johnny': 1, u'cringed': 1, u'psychopath': 1, u'graham': 1, u'proceeds': 1, u'film': 1, u'heather': 1, u'englishman': 1, u'amounts': 1, u'tim': 1, u'book': 1, u'star': 1, u'brothers': 1, u'whistling': 1, u'includes': 1, u'terry': 1, u'ghost': 1, u'calls': 1, u'directors': 1, u'time': 1, u'richardson': 1, u'menace': 1, u'starting': 1, u'original': 1}, 'pos')\n"
     ]
    }
   ],
   "source": [
    "print positive_features[0]"
   ]
  },
  {
   "cell_type": "code",
   "execution_count": 63,
   "metadata": {
    "collapsed": true
   },
   "outputs": [],
   "source": [
    "from nltk.classify import NaiveBayesClassifier"
   ]
  },
  {
   "cell_type": "markdown",
   "metadata": {},
   "source": [
    "One of the simplest supervised machine learning classifiers is the Naive Bayes Classifier, it can be trained on 80% of the data to learn what words are generally associated with positive or with negative reviews."
   ]
  },
  {
   "cell_type": "code",
   "execution_count": 64,
   "metadata": {
    "collapsed": true
   },
   "outputs": [],
   "source": [
    "split = 800\n",
    "training_set = positive_features[:split] + negative_features[:split]\n",
    "test_set =  positive_features[split:] + negative_features[split:] "
   ]
  },
  {
   "cell_type": "code",
   "execution_count": 65,
   "metadata": {
    "collapsed": true
   },
   "outputs": [],
   "source": [
    "sentiment_classifier = NaiveBayesClassifier.train(training_set)"
   ]
  },
  {
   "cell_type": "markdown",
   "metadata": {},
   "source": [
    "We can check after training what is the accuracy on the training set:"
   ]
  },
  {
   "cell_type": "code",
   "execution_count": 66,
   "metadata": {},
   "outputs": [
    {
     "data": {
      "text/plain": [
       "98.0625"
      ]
     },
     "execution_count": 66,
     "metadata": {},
     "output_type": "execute_result"
    }
   ],
   "source": [
    "nltk.classify.util.accuracy(sentiment_classifier, training_set) * 100"
   ]
  },
  {
   "cell_type": "markdown",
   "metadata": {},
   "source": [
    "Check the classifier accuracy on the test set:"
   ]
  },
  {
   "cell_type": "code",
   "execution_count": 67,
   "metadata": {},
   "outputs": [
    {
     "data": {
      "text/plain": [
       "71.75"
      ]
     },
     "execution_count": 67,
     "metadata": {},
     "output_type": "execute_result"
    }
   ],
   "source": [
    "nltk.classify.util.accuracy(sentiment_classifier, test_set) * 100"
   ]
  },
  {
   "cell_type": "code",
   "execution_count": 68,
   "metadata": {},
   "outputs": [
    {
     "name": "stdout",
     "output_type": "stream",
     "text": [
      "Most Informative Features\n",
      "             outstanding = 1                 pos : neg    =     13.9 : 1.0\n",
      "               insulting = 1                 neg : pos    =     13.7 : 1.0\n",
      "              vulnerable = 1                 pos : neg    =     13.0 : 1.0\n",
      "               ludicrous = 1                 neg : pos    =     12.6 : 1.0\n",
      "             uninvolving = 1                 neg : pos    =     12.3 : 1.0\n",
      "                  avoids = 1                 pos : neg    =     11.7 : 1.0\n",
      "              astounding = 1                 pos : neg    =     11.7 : 1.0\n",
      "             fascination = 1                 pos : neg    =     11.0 : 1.0\n",
      "               animators = 1                 pos : neg    =     10.3 : 1.0\n",
      "                  darker = 1                 pos : neg    =     10.3 : 1.0\n"
     ]
    }
   ],
   "source": [
    "sentiment_classifier.show_most_informative_features()"
   ]
  },
  {
   "cell_type": "markdown",
   "metadata": {},
   "source": [
    "What this tells you is the ratio of occurences in negative to positive, or visa versa, for every word. So here, we can see that the term \"outstanding\" appears 13.9 more times as often in positive reviews as it does in negative reviews. "
   ]
  }
 ],
 "metadata": {
  "kernelspec": {
   "display_name": "Python 2",
   "language": "python",
   "name": "python2"
  },
  "language_info": {
   "codemirror_mode": {
    "name": "ipython",
    "version": 2
   },
   "file_extension": ".py",
   "mimetype": "text/x-python",
   "name": "python",
   "nbconvert_exporter": "python",
   "pygments_lexer": "ipython2",
   "version": "2.7.13"
  }
 },
 "nbformat": 4,
 "nbformat_minor": 2
}
